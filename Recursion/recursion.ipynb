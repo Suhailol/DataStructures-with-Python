{
 "cells": [
  {
   "cell_type": "code",
   "execution_count": null,
   "metadata": {},
   "outputs": [],
   "source": [
    "#program to return nth fibonacci number\n",
    "\n",
    "def nthFibonacci(n):\n",
    "    if n == 2:\n",
    "        return 1\n",
    "    elif n == 1:\n",
    "        return 0\n",
    "    else:\n",
    "        return nthFibonacci(n-1) + nthFibonacci(n-2)"
   ]
  },
  {
   "cell_type": "code",
   "execution_count": null,
   "metadata": {},
   "outputs": [],
   "source": [
    "#program to return the product sum of an array and special arrays\n",
    "def productSum(array, multiplier = 1):\n",
    "    sum = 0\n",
    "    for element in array:\n",
    "        if type(element) == list:\n",
    "            sum = productSum(element, multiplier +1)\n",
    "        else:\n",
    "            sum = sum + element\n",
    "    return sum*multiplier"
   ]
  },
  {
   "cell_type": "code",
   "execution_count": null,
   "metadata": {},
   "outputs": [],
   "source": [
    "#Program that takes in an array and returns its powerset\n",
    "def powerSet(array):\n",
    "    subsets = [[]]\n",
    "    for ele in array:\n",
    "        for i in range(len(subsets)):\n",
    "            currentSubset = subsets[i]\n",
    "            subsets.append(currentSubsets + [ele])\n",
    "    return subsets"
   ]
  }
 ],
 "metadata": {
  "language_info": {
   "name": "python"
  },
  "orig_nbformat": 4
 },
 "nbformat": 4,
 "nbformat_minor": 2
}
