{
 "cells": [
  {
   "cell_type": "code",
   "execution_count": 6,
   "metadata": {},
   "outputs": [
    {
     "data": {
      "text/plain": [
       "[2, 3, 5, 5, 6, 8, 9]"
      ]
     },
     "execution_count": 6,
     "metadata": {},
     "output_type": "execute_result"
    }
   ],
   "source": [
    "#Bubble Sort\n",
    "def bubbleSort(array):\n",
    "    isSorted = False\n",
    "    count = 0\n",
    "    while not isSorted:\n",
    "        isSorted = True\n",
    "        for i in range(len(array)-1-count):\n",
    "            if array[i] > array[i+1]:\n",
    "                array[i], array[i+1] = array[i+1], array[i]\n",
    "                isSorted = False\n",
    "        count += 1\n",
    "    return array\n",
    "\n",
    "a = [8, 5, 2, 9, 5, 6, 3]\n",
    "bubbleSort(a)"
   ]
  },
  {
   "cell_type": "code",
   "execution_count": 7,
   "metadata": {},
   "outputs": [
    {
     "data": {
      "text/plain": [
       "[2, 3, 5, 5, 6, 8, 9]"
      ]
     },
     "execution_count": 7,
     "metadata": {},
     "output_type": "execute_result"
    }
   ],
   "source": [
    "#Insertion Sort\n",
    "def insertionSort(array):\n",
    "    for i in range(1, len(array)):\n",
    "        j = i\n",
    "        while j > 0 and array[j] < array[j-1]:\n",
    "            array[j], array[j-1] = array[j-1], array[j]\n",
    "            j -= 1\n",
    "    return array\n",
    "\n",
    "insertionSort(a)\n"
   ]
  },
  {
   "cell_type": "code",
   "execution_count": 9,
   "metadata": {},
   "outputs": [
    {
     "data": {
      "text/plain": [
       "[2, 3, 5, 5, 6, 8, 9]"
      ]
     },
     "execution_count": 9,
     "metadata": {},
     "output_type": "execute_result"
    }
   ],
   "source": [
    "#Selection Sort\n",
    "def selectionSort(array):\n",
    "    currentIdx = 0\n",
    "    while currentIdx < len(array):\n",
    "        smallestIdx = currentIdx\n",
    "        for i in range(currentIdx +1, len(array)):\n",
    "            if array[i] < array[smallestIdx]:\n",
    "                array[i], array[smallestIdx] = array[smallestIdx], array[i]\n",
    "        currentIdx += 1\n",
    "    return array\n",
    "\n",
    "b = [8, 5, 2, 9, 5, 6, 3]\n",
    "selectionSort(b)\n"
   ]
  },
  {
   "cell_type": "code",
   "execution_count": 13,
   "metadata": {},
   "outputs": [
    {
     "data": {
      "text/plain": [
       "[2, 3, 5, 5, 6, 8, 9]"
      ]
     },
     "execution_count": 13,
     "metadata": {},
     "output_type": "execute_result"
    }
   ],
   "source": [
    "#Quick Sort\n",
    "def quickSort(array):\n",
    "    recursivePartition(array, 0, len(array) - 1)\n",
    "    return array\n",
    "\n",
    "def recursivePartition(array, startIdx, endIdx):\n",
    "    if startIdx >= endIdx:\n",
    "        return \n",
    "    pivotIdx = startIdx\n",
    "    i = startIdx + 1\n",
    "    j = endIdx\n",
    "    while i <= j:\n",
    "        if array[i] > array[pivotIdx] and array[j] < array[pivotIdx]:\n",
    "            array[i], array[j] = array[j], array[i]\n",
    "        if array[i] <= array[pivotIdx]:\n",
    "            i += 1\n",
    "        if array[j] >= array[pivotIdx]:\n",
    "            j -= 1\n",
    "    array[j], array[pivotIdx] = array[pivotIdx], array[j]\n",
    "    recursivePartition(array, j+1, endIdx)\n",
    "    recursivePartition(array, startIdx, j-1)\n",
    "\n",
    "c = [8, 5, 2, 9, 5, 6, 3]\n",
    "quickSort(c)"
   ]
  },
  {
   "cell_type": "code",
   "execution_count": 14,
   "metadata": {},
   "outputs": [
    {
     "data": {
      "text/plain": [
       "[3, 5, 5, 8]"
      ]
     },
     "execution_count": 14,
     "metadata": {},
     "output_type": "execute_result"
    }
   ],
   "source": [
    "#Merge sort\n",
    "def mergeSort(array):\n",
    "    if len(array) == 1:\n",
    "        return array\n",
    "    middleIdx = len(array) // 2\n",
    "    leftHalf = array[:middleIdx]\n",
    "    rightHalf = array[middleIdx+1:]\n",
    "    return mergeSortedArray(mergeSort(leftHalf), mergeSort(rightHalf))\n",
    "\n",
    "def mergeSortedArray(leftHalf, rightHalf):\n",
    "    sortedArray = [None] * (len(leftHalf) + len(rightHalf))\n",
    "    k = i = j = 0\n",
    "    while i < len(leftHalf) and j < len(rightHalf):\n",
    "        if leftHalf[i] <= rightHalf[j]:\n",
    "            sortedArray[k] = leftHalf[i]\n",
    "            i += 1\n",
    "        else:\n",
    "            sortedArray[k] = rightHalf[j]\n",
    "            j += 1\n",
    "        k += 1\n",
    "    while i < len(leftHalf):\n",
    "        sortedArray[k] = leftHalf[i]\n",
    "        i += 1\n",
    "        k += 1\n",
    "    while j < len(rightHalf):\n",
    "        sortedArray[k] = rightHalf[j]\n",
    "        j += 1\n",
    "        k += 1\n",
    "    return sortedArray\n",
    "\n",
    "d = [8, 9, 5, 6, 5, 2, 3]\n",
    "mergeSort(d)"
   ]
  }
 ],
 "metadata": {
  "interpreter": {
   "hash": "b0fa6594d8f4cbf19f97940f81e996739fb7646882a419484c72d19e05852a7e"
  },
  "kernelspec": {
   "display_name": "Python 3.9.9 64-bit",
   "language": "python",
   "name": "python3"
  },
  "language_info": {
   "codemirror_mode": {
    "name": "ipython",
    "version": 3
   },
   "file_extension": ".py",
   "mimetype": "text/x-python",
   "name": "python",
   "nbconvert_exporter": "python",
   "pygments_lexer": "ipython3",
   "version": "3.9.9"
  },
  "orig_nbformat": 4
 },
 "nbformat": 4,
 "nbformat_minor": 2
}
