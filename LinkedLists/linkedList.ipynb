{
 "cells": [
  {
   "cell_type": "code",
   "execution_count": null,
   "metadata": {},
   "outputs": [],
   "source": [
    "#Program to reverse a singly linkedlist\n",
    "# O(n) Time and O(1) space\n",
    "\n",
    "class LinkedList:\n",
    "    def __init__(self, value):\n",
    "        self.value = value\n",
    "        self.none = None\n",
    "\n",
    "def reverseLinkedList(head): #here we assume head is an instance of the class LinkedList\n",
    "    prevNode, currentNode = None, head\n",
    "    while currentNode != None:\n",
    "        nextNode = currentNode.next\n",
    "        currentNode.next = prevNode\n",
    "        prevNode = currentNode\n",
    "        currentNode = nextNode\n",
    "\n",
    "    return prevNode\n",
    "\n"
   ]
  },
  {
   "cell_type": "code",
   "execution_count": null,
   "metadata": {},
   "outputs": [],
   "source": [
    "#Program to implement a doublylinkedList and many more\n",
    "\n",
    "class Node:\n",
    "    def __init__(self, value):\n",
    "        self.value = value\n",
    "        self.next = None\n",
    "        self.prev = None\n",
    "\n",
    "def remove(self, node):\n",
    "    if node == self.head:\n",
    "        self.head = self.head.next\n",
    "    \n",
    "    if node == self.tail:\n",
    "        self.tail = self.tail.prev\n",
    "\n",
    "    self.removeNodeBindings(node)\n",
    "\n",
    "def containsNodeWithValue(self, value):\n",
    "    node = self.head\n",
    "    while node is not None and node.value != value:\n",
    "        node = node.next\n",
    "    return node is not None\n",
    "\n"
   ]
  }
 ],
 "metadata": {
  "language_info": {
   "name": "python"
  },
  "orig_nbformat": 4
 },
 "nbformat": 4,
 "nbformat_minor": 2
}
