{
 "cells": [
  {
   "cell_type": "code",
   "execution_count": null,
   "metadata": {},
   "outputs": [],
   "source": [
    "#Program to reverse a singly linkedlist\n",
    "# O(n) Time and O(1) space\n",
    "\n",
    "class LinkedList:\n",
    "    def __init__(self, value):\n",
    "        self.value = value\n",
    "        self.none = None\n",
    "\n",
    "def reverseLinkedList(head): #here we assume head is an instance of the class LinkedList\n",
    "    prevNode, currentNode = None, head\n",
    "    while currentNode != None:\n",
    "        nextNode = currentNode.next\n",
    "        currentNode.next = prevNode\n",
    "        prevNode = currentNode\n",
    "        currentNode = nextNode\n",
    "\n",
    "    return prevNode\n",
    "\n"
   ]
  }
 ],
 "metadata": {
  "language_info": {
   "name": "python"
  },
  "orig_nbformat": 4
 },
 "nbformat": 4,
 "nbformat_minor": 2
}
